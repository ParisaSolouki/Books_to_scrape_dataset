{
 "cells": [
  {
   "cell_type": "markdown",
   "id": "57004d11",
   "metadata": {},
   "source": [
    "# Import necessary libraries"
   ]
  },
  {
   "cell_type": "code",
   "execution_count": 31,
   "id": "52a5aeeb",
   "metadata": {},
   "outputs": [],
   "source": [
    "import requests\n",
    "from bs4 import BeautifulSoup\n",
    "import pandas as pd"
   ]
  },
  {
   "cell_type": "markdown",
   "id": "4beae4ee",
   "metadata": {},
   "source": [
    "# Step 1️⃣: Send a GET request to the target website"
   ]
  },
  {
   "cell_type": "code",
   "execution_count": 41,
   "id": "28ce4f45",
   "metadata": {},
   "outputs": [],
   "source": [
    "url = \"https://books.toscrape.com/\"\n",
    "response = requests.get(url)\n",
    "soup = BeautifulSoup(response.text, \"html.parser\")\n",
    "\n",
    "#print(soup.prettify())"
   ]
  },
  {
   "cell_type": "markdown",
   "id": "65c46180",
   "metadata": {},
   "source": [
    "# Step 2️⃣: Find all book containers"
   ]
  },
  {
   "cell_type": "code",
   "execution_count": 33,
   "id": "bfd5f55b",
   "metadata": {},
   "outputs": [],
   "source": [
    "books = soup.find_all(\"article\", class_=\"product_pod\")"
   ]
  },
  {
   "cell_type": "markdown",
   "id": "8e73f7da",
   "metadata": {},
   "source": [
    "# Step 3️⃣: Create empty lists to store data"
   ]
  },
  {
   "cell_type": "code",
   "execution_count": 34,
   "id": "9b4653b7",
   "metadata": {},
   "outputs": [
    {
     "name": "stdout",
     "output_type": "stream",
     "text": [
      "Title: A Light in the Attic\n",
      "Price: Â£51.77\n",
      "Link: catalogue/a-light-in-the-attic_1000/index.html\n",
      "----------------------------------------\n",
      "Title: Tipping the Velvet\n",
      "Price: Â£53.74\n",
      "Link: catalogue/tipping-the-velvet_999/index.html\n",
      "----------------------------------------\n",
      "Title: Soumission\n",
      "Price: Â£50.10\n",
      "Link: catalogue/soumission_998/index.html\n",
      "----------------------------------------\n",
      "Title: Sharp Objects\n",
      "Price: Â£47.82\n",
      "Link: catalogue/sharp-objects_997/index.html\n",
      "----------------------------------------\n",
      "Title: Sapiens: A Brief History of Humankind\n",
      "Price: Â£54.23\n",
      "Link: catalogue/sapiens-a-brief-history-of-humankind_996/index.html\n",
      "----------------------------------------\n",
      "Title: The Requiem Red\n",
      "Price: Â£22.65\n",
      "Link: catalogue/the-requiem-red_995/index.html\n",
      "----------------------------------------\n",
      "Title: The Dirty Little Secrets of Getting Your Dream Job\n",
      "Price: Â£33.34\n",
      "Link: catalogue/the-dirty-little-secrets-of-getting-your-dream-job_994/index.html\n",
      "----------------------------------------\n",
      "Title: The Coming Woman: A Novel Based on the Life of the Infamous Feminist, Victoria Woodhull\n",
      "Price: Â£17.93\n",
      "Link: catalogue/the-coming-woman-a-novel-based-on-the-life-of-the-infamous-feminist-victoria-woodhull_993/index.html\n",
      "----------------------------------------\n",
      "Title: The Boys in the Boat: Nine Americans and Their Epic Quest for Gold at the 1936 Berlin Olympics\n",
      "Price: Â£22.60\n",
      "Link: catalogue/the-boys-in-the-boat-nine-americans-and-their-epic-quest-for-gold-at-the-1936-berlin-olympics_992/index.html\n",
      "----------------------------------------\n",
      "Title: The Black Maria\n",
      "Price: Â£52.15\n",
      "Link: catalogue/the-black-maria_991/index.html\n",
      "----------------------------------------\n",
      "Title: Starving Hearts (Triangular Trade Trilogy, #1)\n",
      "Price: Â£13.99\n",
      "Link: catalogue/starving-hearts-triangular-trade-trilogy-1_990/index.html\n",
      "----------------------------------------\n",
      "Title: Shakespeare's Sonnets\n",
      "Price: Â£20.66\n",
      "Link: catalogue/shakespeares-sonnets_989/index.html\n",
      "----------------------------------------\n",
      "Title: Set Me Free\n",
      "Price: Â£17.46\n",
      "Link: catalogue/set-me-free_988/index.html\n",
      "----------------------------------------\n",
      "Title: Scott Pilgrim's Precious Little Life (Scott Pilgrim #1)\n",
      "Price: Â£52.29\n",
      "Link: catalogue/scott-pilgrims-precious-little-life-scott-pilgrim-1_987/index.html\n",
      "----------------------------------------\n",
      "Title: Rip it Up and Start Again\n",
      "Price: Â£35.02\n",
      "Link: catalogue/rip-it-up-and-start-again_986/index.html\n",
      "----------------------------------------\n",
      "Title: Our Band Could Be Your Life: Scenes from the American Indie Underground, 1981-1991\n",
      "Price: Â£57.25\n",
      "Link: catalogue/our-band-could-be-your-life-scenes-from-the-american-indie-underground-1981-1991_985/index.html\n",
      "----------------------------------------\n",
      "Title: Olio\n",
      "Price: Â£23.88\n",
      "Link: catalogue/olio_984/index.html\n",
      "----------------------------------------\n",
      "Title: Mesaerion: The Best Science Fiction Stories 1800-1849\n",
      "Price: Â£37.59\n",
      "Link: catalogue/mesaerion-the-best-science-fiction-stories-1800-1849_983/index.html\n",
      "----------------------------------------\n",
      "Title: Libertarianism for Beginners\n",
      "Price: Â£51.33\n",
      "Link: catalogue/libertarianism-for-beginners_982/index.html\n",
      "----------------------------------------\n",
      "Title: It's Only the Himalayas\n",
      "Price: Â£45.17\n",
      "Link: catalogue/its-only-the-himalayas_981/index.html\n",
      "----------------------------------------\n"
     ]
    }
   ],
   "source": [
    "for book in books:\n",
    "    title = book.h3.a[\"title\"]  # Book title\n",
    "    price = book.find(\"p\", class_=\"price_color\").text  # Book price\n",
    "    link = book.h3.a[\"href\"]  # Book link (relative)\n",
    "    \n",
    "    print(\"Title:\", title)\n",
    "    print(\"Price:\", price)\n",
    "    print(\"Link:\", link)\n",
    "    print(\"-\" * 40)\n",
    "    \n",
    "    titles_list.append(title)\n",
    "    prices_list.append(price)\n",
    "    links_list.append(link)"
   ]
  },
  {
   "cell_type": "markdown",
   "id": "58dedeca",
   "metadata": {},
   "source": [
    "# Step 5️⃣: Create a DataFrame from extracted data"
   ]
  },
  {
   "cell_type": "code",
   "execution_count": 35,
   "id": "d6d9febd",
   "metadata": {},
   "outputs": [],
   "source": [
    "df = pd.DataFrame({\n",
    "    \"Title\": titles_list,\n",
    "    \"Price\": prices_list,\n",
    "    \"Link\": links_list\n",
    "})"
   ]
  },
  {
   "cell_type": "markdown",
   "id": "b8a9e5e8",
   "metadata": {},
   "source": [
    "# Step 6️⃣: Preview the first few rows"
   ]
  },
  {
   "cell_type": "code",
   "execution_count": 42,
   "id": "bc287fe6",
   "metadata": {},
   "outputs": [
    {
     "data": {
      "text/html": [
       "<div>\n",
       "<style scoped>\n",
       "    .dataframe tbody tr th:only-of-type {\n",
       "        vertical-align: middle;\n",
       "    }\n",
       "\n",
       "    .dataframe tbody tr th {\n",
       "        vertical-align: top;\n",
       "    }\n",
       "\n",
       "    .dataframe thead th {\n",
       "        text-align: right;\n",
       "    }\n",
       "</style>\n",
       "<table border=\"1\" class=\"dataframe\">\n",
       "  <thead>\n",
       "    <tr style=\"text-align: right;\">\n",
       "      <th></th>\n",
       "      <th>Title</th>\n",
       "      <th>Price</th>\n",
       "      <th>Link</th>\n",
       "    </tr>\n",
       "  </thead>\n",
       "  <tbody>\n",
       "    <tr>\n",
       "      <th>0</th>\n",
       "      <td>A Light in the Attic</td>\n",
       "      <td>Â£51.77</td>\n",
       "      <td>catalogue/a-light-in-the-attic_1000/index.html</td>\n",
       "    </tr>\n",
       "    <tr>\n",
       "      <th>1</th>\n",
       "      <td>Tipping the Velvet</td>\n",
       "      <td>Â£53.74</td>\n",
       "      <td>catalogue/tipping-the-velvet_999/index.html</td>\n",
       "    </tr>\n",
       "    <tr>\n",
       "      <th>2</th>\n",
       "      <td>Soumission</td>\n",
       "      <td>Â£50.10</td>\n",
       "      <td>catalogue/soumission_998/index.html</td>\n",
       "    </tr>\n",
       "    <tr>\n",
       "      <th>3</th>\n",
       "      <td>Sharp Objects</td>\n",
       "      <td>Â£47.82</td>\n",
       "      <td>catalogue/sharp-objects_997/index.html</td>\n",
       "    </tr>\n",
       "    <tr>\n",
       "      <th>4</th>\n",
       "      <td>Sapiens: A Brief History of Humankind</td>\n",
       "      <td>Â£54.23</td>\n",
       "      <td>catalogue/sapiens-a-brief-history-of-humankind...</td>\n",
       "    </tr>\n",
       "  </tbody>\n",
       "</table>\n",
       "</div>"
      ],
      "text/plain": [
       "                                   Title    Price  \\\n",
       "0                   A Light in the Attic  Â£51.77   \n",
       "1                     Tipping the Velvet  Â£53.74   \n",
       "2                             Soumission  Â£50.10   \n",
       "3                          Sharp Objects  Â£47.82   \n",
       "4  Sapiens: A Brief History of Humankind  Â£54.23   \n",
       "\n",
       "                                                Link  \n",
       "0     catalogue/a-light-in-the-attic_1000/index.html  \n",
       "1        catalogue/tipping-the-velvet_999/index.html  \n",
       "2                catalogue/soumission_998/index.html  \n",
       "3             catalogue/sharp-objects_997/index.html  \n",
       "4  catalogue/sapiens-a-brief-history-of-humankind...  "
      ]
     },
     "execution_count": 42,
     "metadata": {},
     "output_type": "execute_result"
    }
   ],
   "source": [
    "df.head()"
   ]
  },
  {
   "cell_type": "markdown",
   "id": "9edcd65c",
   "metadata": {},
   "source": [
    "# Step 7️⃣: Save the data as a CSV file"
   ]
  },
  {
   "cell_type": "code",
   "execution_count": 37,
   "id": "a3afc332",
   "metadata": {},
   "outputs": [],
   "source": [
    "df.to_csv(\"books_to_scrape_dataset.csv\", index=False)"
   ]
  },
  {
   "cell_type": "code",
   "execution_count": 40,
   "id": "14d4071d",
   "metadata": {},
   "outputs": [
    {
     "name": "stdout",
     "output_type": "stream",
     "text": [
      "\n",
      "✅ Data successfully saved to 'books_to_scrape_dataset.csv'\n"
     ]
    }
   ],
   "source": [
    "print(\"\\n✅ Data successfully saved to 'books_to_scrape_dataset.csv'\")"
   ]
  }
 ],
 "metadata": {
  "kernelspec": {
   "display_name": "Python 3 (ipykernel)",
   "language": "python",
   "name": "python3"
  },
  "language_info": {
   "codemirror_mode": {
    "name": "ipython",
    "version": 3
   },
   "file_extension": ".py",
   "mimetype": "text/x-python",
   "name": "python",
   "nbconvert_exporter": "python",
   "pygments_lexer": "ipython3",
   "version": "3.9.7"
  }
 },
 "nbformat": 4,
 "nbformat_minor": 5
}
